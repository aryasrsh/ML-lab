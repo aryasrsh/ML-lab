{
 "cells": [
  {
   "cell_type": "code",
   "execution_count": 1,
   "metadata": {},
   "outputs": [],
   "source": [
    "from sklearn.model_selection import train_test_split\n",
    "from sklearn.neighbors import KNeighborsClassifier\n",
    "from sklearn import datasets"
   ]
  },
  {
   "cell_type": "code",
   "execution_count": 2,
   "metadata": {},
   "outputs": [
    {
     "name": "stdout",
     "output_type": "stream",
     "text": [
      "Iris Data set loaded\n",
      "Dataset is split into training and testing...\n",
      "Size of training data and its label (135, 4) (135,)\n",
      "Size of training data and its label (15, 4) (15,)\n",
      "Label 0 - setosa\n",
      "Label 1 - versicolor\n",
      "Label 2 - virginica\n",
      "Results of classification using K-nn with K=1\n",
      "Sample: [6.4 2.8 5.6 2.1] Actual Label: 2 Predicted label: 2\n",
      "Sample: [6.  2.2 5.  1.5] Actual Label: 2 Predicted label: 1\n",
      "Sample: [6.1 2.8 4.  1.3] Actual Label: 1 Predicted label: 1\n",
      "Sample: [5.4 3.9 1.7 0.4] Actual Label: 0 Predicted label: 0\n",
      "Sample: [6.3 2.3 4.4 1.3] Actual Label: 1 Predicted label: 1\n",
      "Sample: [4.9 2.5 4.5 1.7] Actual Label: 2 Predicted label: 1\n",
      "Sample: [7.3 2.9 6.3 1.8] Actual Label: 2 Predicted label: 2\n",
      "Sample: [5.1 3.5 1.4 0.2] Actual Label: 0 Predicted label: 0\n",
      "Sample: [5.7 2.8 4.5 1.3] Actual Label: 1 Predicted label: 1\n",
      "Sample: [4.8 3.  1.4 0.1] Actual Label: 0 Predicted label: 0\n",
      "Sample: [5.7 2.6 3.5 1. ] Actual Label: 1 Predicted label: 1\n",
      "Sample: [5.2 3.4 1.4 0.2] Actual Label: 0 Predicted label: 0\n",
      "Sample: [5.4 3.  4.5 1.5] Actual Label: 1 Predicted label: 1\n",
      "Sample: [6.3 2.7 4.9 1.8] Actual Label: 2 Predicted label: 2\n",
      "Sample: [5.8 2.7 5.1 1.9] Actual Label: 2 Predicted label: 2\n",
      "Classification Accuracy: 0.8666666666666667\n",
      "Confusion matrix\n",
      "[[4 0 0]\n",
      " [0 5 0]\n",
      " [0 2 4]]\n",
      "accuracy Metrics\n",
      "              precision    recall  f1-score   support\n",
      "\n",
      "           0       1.00      1.00      1.00         4\n",
      "           1       0.71      1.00      0.83         5\n",
      "           2       1.00      0.67      0.80         6\n",
      "\n",
      "    accuracy                           0.87        15\n",
      "   macro avg       0.90      0.89      0.88        15\n",
      "weighted avg       0.90      0.87      0.86        15\n",
      "\n",
      "correct prediction 0.8666666666666667\n",
      "Wrong prediction 0.1333333333333333\n"
     ]
    }
   ],
   "source": [
    "iris=datasets.load_iris()\n",
    "print(\"Iris Data set loaded\")\n",
    "\n",
    "x_train,x_test,y_train,y_test=train_test_split(iris.data,iris.target,test_size=0.1)\n",
    "print(\"Dataset is split into training and testing...\")\n",
    "print(\"Size of training data and its label\",x_train.shape,y_train.shape)\n",
    "print(\"Size of training data and its label\",x_test.shape,y_test.shape)\n",
    "\n",
    "for i in range(len(iris.target_names)):\n",
    "    print(\"Label\",i,\"-\",str(iris.target_names[i]))\n",
    "    \n",
    "classifier=KNeighborsClassifier(n_neighbors=1)\n",
    "\n",
    "classifier.fit(x_train,y_train)\n",
    "\n",
    "y_pred=classifier.predict(x_test)\n",
    "\n",
    "print(\"Results of classification using K-nn with K=1\")\n",
    "for r in range(0,len(x_test)):\n",
    "    print(\"Sample:\",str(x_test[r]), \"Actual Label:\",str(y_test[r]), \"Predicted label:\",str(y_pred[r]))\n",
    "print(\"Classification Accuracy:\",classifier.score(x_test,y_test)); \n",
    "\n",
    "from sklearn.metrics import classification_report,confusion_matrix\n",
    "from sklearn.metrics import accuracy_score\n",
    "\n",
    "print('Confusion matrix')\n",
    "print(confusion_matrix(y_test,y_pred))\n",
    "print('accuracy Metrics')\n",
    "print(classification_report(y_test,y_pred))\n",
    "print(\"correct prediction\",accuracy_score(y_test,y_pred))\n",
    "print(\"Wrong prediction\",1-accuracy_score(y_test,y_pred))"
   ]
  },
  {
   "cell_type": "code",
   "execution_count": null,
   "metadata": {},
   "outputs": [],
   "source": []
  }
 ],
 "metadata": {
  "kernelspec": {
   "display_name": "Python 3",
   "language": "python",
   "name": "python3"
  },
  "language_info": {
   "codemirror_mode": {
    "name": "ipython",
    "version": 3
   },
   "file_extension": ".py",
   "mimetype": "text/x-python",
   "name": "python",
   "nbconvert_exporter": "python",
   "pygments_lexer": "ipython3",
   "version": "3.8.3"
  }
 },
 "nbformat": 4,
 "nbformat_minor": 4
}
